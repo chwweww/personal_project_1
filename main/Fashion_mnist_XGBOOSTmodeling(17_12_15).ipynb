{
 "cells": [
  {
   "cell_type": "code",
   "execution_count": null,
   "metadata": {
    "collapsed": true
   },
   "outputs": [],
   "source": [
    "import pandas as pd\n",
    "import numpy as np\n",
    "import matplotlib.pyplot as plt\n",
    "%matplotlib inline\n",
    "import warnings\n",
    "warnings.filterwarnings(\"ignore\")"
   ]
  },
  {
   "cell_type": "code",
   "execution_count": null,
   "metadata": {
    "collapsed": true
   },
   "outputs": [],
   "source": [
    "df_train = pd.read_csv('data/fashion_train.csv')"
   ]
  },
  {
   "cell_type": "code",
   "execution_count": null,
   "metadata": {
    "scrolled": true
   },
   "outputs": [],
   "source": [
    "df_train.head()"
   ]
  },
  {
   "cell_type": "code",
   "execution_count": null,
   "metadata": {
    "collapsed": true
   },
   "outputs": [],
   "source": [
    "df_train_X = df_train.iloc[:, 2:]\n",
    "df_train_y = df_train.iloc[:,[1]]"
   ]
  },
  {
   "cell_type": "code",
   "execution_count": null,
   "metadata": {
    "collapsed": true
   },
   "outputs": [],
   "source": [
    "from sklearn.preprocessing import StandardScaler"
   ]
  },
  {
   "cell_type": "code",
   "execution_count": null,
   "metadata": {
    "collapsed": true
   },
   "outputs": [],
   "source": [
    "sc = StandardScaler()\n",
    "df_train_X_std = sc.fit_transform(df_train_X)"
   ]
  },
  {
   "cell_type": "code",
   "execution_count": null,
   "metadata": {},
   "outputs": [],
   "source": [
    "from sklearn.decomposition import PCA\n",
    "\n",
    "pca = PCA(n_components=9)\n",
    "X_pca = pca.fit_transform(df_train_X_std)\n",
    "X_pca.shape"
   ]
  },
  {
   "cell_type": "code",
   "execution_count": null,
   "metadata": {},
   "outputs": [],
   "source": [
    "from sklearn.model_selection import train_test_split , KFold , cross_val_score\n",
    "from sklearn.model_selection import GridSearchCV\n",
    "import xgboost\n",
    "from xgboost import XGBClassifier"
   ]
  },
  {
   "cell_type": "code",
   "execution_count": null,
   "metadata": {
    "collapsed": true
   },
   "outputs": [],
   "source": [
    "def xgboost_Grid(X_train, X_test, y_train, y_test):\n",
    "        param= { 'n_estimators' : [100,200,300,400],\n",
    "                      'learning_rate':  [0.01,0.05,0.10,0.15],\n",
    "                      'max_depth':[3,4,5,6]}\n",
    "        model_xgb = GridSearchCV(XGBClassifier(), param, scoring=\"accuracy\",n_jobs = 4)\n",
    "        name = 'XGBoost'\n",
    "        xgboost_model = model_xgb.fit(X_train, y_train)\n",
    "        print(name,': ',model_xgb.best_params_)\n",
    "        pred_y = model_xgb.predict_proba(X_test)\n",
    "        print('train score: {}'.format(model_xgb.score(X_train, y_train)))\n",
    "        print('test score: {}'.format(model_xgb.score(X_test, y_test)))\n",
    "        return model_xgb"
   ]
  },
  {
   "cell_type": "code",
   "execution_count": null,
   "metadata": {
    "collapsed": true
   },
   "outputs": [],
   "source": [
    "def xgboost_Grid(X_train, X_test, y_train, y_test):\n",
    "        param= { 'n_estimators' : [100,200,300,400],\n",
    "                      'learning_rate':  [0.01,0.05,0.10,0.15],\n",
    "                      'max_depth':[3,4,5,6]}\n",
    "        model_xgb = GridSearchCV(XGBClassifier(), param, scoring=\"accuracy\",n_jobs = 4)\n",
    "        name = 'XGBoost'\n",
    "        xgb_model  = model_xgb.fit(X_train, y_train)\n",
    "        print(name,': ',model_xgb.best_params_)\n",
    "        cv = KFold(n_splits = 10 , shuffle =True , random_state = 0)\n",
    "        print(name)\n",
    "        print('kfold accuracy score: {}'.format(np.mean(cross_val_score(xgb_model, \n",
    "                                                                                                        X_test, \n",
    "                                                                                                        y_test,\n",
    "                                                                                                        scoring=\"accuracy\", \n",
    "                                                                                                        cv=cv))))"
   ]
  },
  {
   "cell_type": "code",
   "execution_count": null,
   "metadata": {
    "collapsed": true
   },
   "outputs": [],
   "source": [
    "X_train_pca, X_test_pca, y_train_pca, y_test_pca = train_test_split(X_pca,df_train_y , test_size = 0.3 ,random_state= 0, shuffle = True)"
   ]
  },
  {
   "cell_type": "code",
   "execution_count": null,
   "metadata": {
    "scrolled": true
   },
   "outputs": [],
   "source": [
    "%%time\n",
    "xgboost_Grid(X_train_pca,X_test_pca,y_train_pca,y_test_pca)"
   ]
  },
  {
   "cell_type": "code",
   "execution_count": null,
   "metadata": {
    "collapsed": true
   },
   "outputs": [],
   "source": []
  }
 ],
 "metadata": {
  "kernelspec": {
   "display_name": "Python 3",
   "language": "python",
   "name": "python3"
  },
  "language_info": {
   "codemirror_mode": {
    "name": "ipython",
    "version": 3
   },
   "file_extension": ".py",
   "mimetype": "text/x-python",
   "name": "python",
   "nbconvert_exporter": "python",
   "pygments_lexer": "ipython3",
   "version": "3.6.3"
  }
 },
 "nbformat": 4,
 "nbformat_minor": 2
}
